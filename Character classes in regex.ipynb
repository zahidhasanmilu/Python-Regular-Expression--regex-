{
 "cells": [
  {
   "cell_type": "code",
   "execution_count": 1,
   "metadata": {},
   "outputs": [
    {
     "name": "stdout",
     "output_type": "stream",
     "text": [
      "list found ['1', '0', '2', '0', '2', '4']\n"
     ]
    }
   ],
   "source": [
    "import re\n",
    "\n",
    "def find_data(p, d):\n",
    "    m = re.findall(p, d)\n",
    "    \n",
    "    if m:\n",
    "        print('list found', m)\n",
    "    else:\n",
    "        print('list empty! not found!')\n",
    "\n",
    "pattern = re.compile(r'[0-9]', re.IGNORECASE)\n",
    "data = \"fc leo's academy stablished by minionsmilu . in 10april2024\"\n",
    "\n",
    "find_data(pattern, data)"
   ]
  },
  {
   "cell_type": "code",
   "execution_count": 19,
   "metadata": {},
   "outputs": [
    {
     "name": "stdout",
     "output_type": "stream",
     "text": [
      "list found ['C', 'F', 'C', 'L', 'E', 'O', \"'\", '#', '$', ':']\n"
     ]
    }
   ],
   "source": [
    "import re\n",
    "\n",
    "def find_data(p, d):\n",
    "    m = re.findall(p, d)\n",
    "    \n",
    "    if m:\n",
    "        print('list found', m)\n",
    "    else:\n",
    "        print('list empty! not found!')\n",
    "\n",
    "pattern = re.compile(r'[0-9]')\n",
    "pattern = re.compile(r'[a-z0-9]')\n",
    "pattern = re.compile(r'[A-Za-z0-9]')\n",
    "pattern = re.compile(r'[^A-Za-z0-9]')\n",
    "pattern = re.compile(r'[^A-Za-z0-9]')\n",
    "pattern = re.compile(r\"[^a-z0-9 .-]\")\n",
    "\n",
    "data = \"Copyright FCLEO. fc leo's academy stablished by #$ minionsmilu: in 10-04-2024\"\n",
    "\n",
    "\n",
    "find_data(pattern, data)"
   ]
  },
  {
   "cell_type": "code",
   "execution_count": 29,
   "metadata": {},
   "outputs": [
    {
     "name": "stdout",
     "output_type": "stream",
     "text": [
      "list found ['C', 'o', 'p', 'y', 'r', 'i', 'g', 'h', 't', ' ', 'F', 'C', 'L', 'E', 'O', '.', ' ', 'f', 'c', ' ', 'l', 'e', 'o', \"'\", 's', ' ', 'a', 'c', 'a', 'd', 'e', 'm', 'y', ' ', 's', 't', 'a', 'b', 'l', 'i', 's', 'h', 'e', 'd', ' ', 'b', 'y', ' ', '#', '$', ' ', 'm', 'i', 'n', 'i', 'o', 'n', 's', 'm', 'i', 'l', 'u', ':', ' ', 'i', 'n', ' ', '-', '-']\n",
      "list found 69\n"
     ]
    }
   ],
   "source": [
    "import re\n",
    "\n",
    "def find_data(p, d):\n",
    "    m = re.findall(p, d)\n",
    "    \n",
    "    if m:\n",
    "        print('list found', m)\n",
    "        print('list found', len(m))\n",
    "        \n",
    "    else:\n",
    "        print('list empty! not found!')\n",
    "\n",
    "pattern = re.compile(r'\\w')\n",
    "pattern = re.compile(r'\\W')\n",
    "pattern = re.compile(r'\\S')\n",
    "pattern = re.compile(r'\\s')\n",
    "pattern = re.compile(r'\\d')\n",
    "pattern = re.compile(r'\\D')\n",
    "\n",
    "\n",
    "data = \"Copyright FCLEO. fc leo's academy stablished by #$ minionsmilu: in 10-04-2024\"\n",
    "\n",
    "\n",
    "find_data(pattern, data)"
   ]
  },
  {
   "cell_type": "code",
   "execution_count": 37,
   "metadata": {},
   "outputs": [
    {
     "name": "stdout",
     "output_type": "stream",
     "text": [
      "list found Start: 67, End: 68, matched: 1\n",
      "list found Start: 68, End: 69, matched: 0\n",
      "list found Start: 70, End: 71, matched: 0\n",
      "list found Start: 71, End: 72, matched: 4\n",
      "list found Start: 73, End: 74, matched: 2\n",
      "list found Start: 74, End: 75, matched: 0\n",
      "list found Start: 75, End: 76, matched: 2\n",
      "list found Start: 76, End: 77, matched: 4\n"
     ]
    }
   ],
   "source": [
    "import re\n",
    "\n",
    "\n",
    "def find_data(p, d):\n",
    "    m = re.finditer(p, d)\n",
    "\n",
    "    if m:\n",
    "        # print('list found', m)\n",
    "        # print('list found', len(m))\n",
    "        for i in m:\n",
    "            print(\n",
    "                f'list found Start: {i.start()}, End: {i.end()}, matched: {i.group()}')\n",
    "\n",
    "    else:\n",
    "        print('list empty! not found!')\n",
    "\n",
    "\n",
    "pattern = re.compile(r'\\w')\n",
    "pattern = re.compile(r'\\W')\n",
    "pattern = re.compile(r'\\S')\n",
    "pattern = re.compile(r'\\s')\n",
    "pattern = re.compile(r'\\d')\n",
    "# pattern = re.compile(r'\\D')\n",
    "\n",
    "\n",
    "data = \"Copyright FCLEO. fc leo's academy stablished by #$ minionsmilu: in 10-04-2024\"\n",
    "\n",
    "\n",
    "find_data(pattern, data)"
   ]
  }
 ],
 "metadata": {
  "kernelspec": {
   "display_name": "env",
   "language": "python",
   "name": "python3"
  },
  "language_info": {
   "codemirror_mode": {
    "name": "ipython",
    "version": 3
   },
   "file_extension": ".py",
   "mimetype": "text/x-python",
   "name": "python",
   "nbconvert_exporter": "python",
   "pygments_lexer": "ipython3",
   "version": "3.10.12"
  }
 },
 "nbformat": 4,
 "nbformat_minor": 2
}
