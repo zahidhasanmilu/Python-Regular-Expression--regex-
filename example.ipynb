{
 "cells": [
  {
   "cell_type": "code",
   "execution_count": 4,
   "metadata": {},
   "outputs": [
    {
     "name": "stdout",
     "output_type": "stream",
     "text": [
      "data found:  Hello\n",
      "<re.Match object; span=(0, 5), match='Hello'>\n"
     ]
    }
   ],
   "source": [
    "import re \n",
    "\n",
    "p = re.compile(r'hello', re.IGNORECASE)\n",
    "d = 'Hello world'\n",
    "\n",
    "m = re.search(p, d)\n",
    "\n",
    "if m :\n",
    "    print('data found: ', m.group())\n",
    "    print(m)\n",
    "else:\n",
    "    print('data not found!')"
   ]
  },
  {
   "cell_type": "code",
   "execution_count": 5,
   "metadata": {},
   "outputs": [
    {
     "name": "stdout",
     "output_type": "stream",
     "text": [
      "data found:  Hello\n",
      "<re.Match object; span=(0, 5), match='Hello'>\n"
     ]
    }
   ],
   "source": [
    "import re\n",
    "\n",
    "def find_data(pattern, data):\n",
    "    m = re.search(pattern, data)\n",
    "    if m :\n",
    "        print('data found: ', m.group())\n",
    "        print(m)\n",
    "    else:\n",
    "        print('data not found!')\n",
    "\n",
    "p = re.compile(r'hello', re.IGNORECASE)\n",
    "d = 'Hello Brother'\n",
    "\n",
    "find_data(p,d)\n"
   ]
  },
  {
   "cell_type": "code",
   "execution_count": 22,
   "metadata": {},
   "outputs": [
    {
     "name": "stdout",
     "output_type": "stream",
     "text": [
      "<re.Match object; span=(0, 2), match='12'>\n",
      "Start with: 0, End With: 2, Match Item: 12\n",
      "\n",
      "<re.Match object; span=(3, 5), match='12'>\n",
      "Start with: 3, End With: 5, Match Item: 12\n",
      "\n",
      "<re.Match object; span=(6, 8), match='12'>\n",
      "Start with: 6, End With: 8, Match Item: 12\n",
      "\n",
      "<re.Match object; span=(9, 11), match='12'>\n",
      "Start with: 9, End With: 11, Match Item: 12\n",
      "\n",
      "<re.Match object; span=(12, 14), match='12'>\n",
      "Start with: 12, End With: 14, Match Item: 12\n",
      "\n"
     ]
    }
   ],
   "source": [
    "import re\n",
    "\n",
    "p = re.compile(r'12',re.IGNORECASE)\n",
    "d = '120120120120120'\n",
    "\n",
    "m = re.finditer(p, d)\n",
    "\n",
    "for i in m:\n",
    "    print(i)\n",
    "    print(f'Start with: {i.start()}, End With: {i.end()}, Match Item: {i.group()}\\n')\n",
    "    \n",
    "    "
   ]
  },
  {
   "cell_type": "code",
   "execution_count": 25,
   "metadata": {},
   "outputs": [
    {
     "name": "stdout",
     "output_type": "stream",
     "text": [
      "<re.Match object; span=(0, 3), match='500'>\n",
      "Start with: 0, End With: 3, Match Item: 500\n",
      "\n",
      "<re.Match object; span=(5, 8), match='500'>\n",
      "Start with: 5, End With: 8, Match Item: 500\n",
      "\n",
      "<re.Match object; span=(8, 11), match='500'>\n",
      "Start with: 8, End With: 11, Match Item: 500\n",
      "\n",
      "<re.Match object; span=(11, 14), match='500'>\n",
      "Start with: 11, End With: 14, Match Item: 500\n",
      "\n"
     ]
    }
   ],
   "source": [
    "import re\n",
    "def find_items(p, d):\n",
    "    m = re.finditer(p, d)\n",
    "\n",
    "    for i in m:\n",
    "        print(i)\n",
    "        print(f'Start with: {i.start()}, End With: {i.end()}, Match Item: {i.group()}\\n')\n",
    "        \n",
    "\n",
    "p = re.compile(r'500',re.IGNORECASE)\n",
    "d = '50000500500500'\n",
    "\n",
    "find_items(p,d)"
   ]
  },
  {
   "cell_type": "code",
   "execution_count": 37,
   "metadata": {},
   "outputs": [
    {
     "name": "stdout",
     "output_type": "stream",
     "text": [
      "<re.Match object; span=(20, 26), match='python'>\n",
      "Total 1\n",
      "Start with: 20, End With: 26, Match Item: python\n",
      "\n",
      "<re.Match object; span=(41, 47), match='Python'>\n",
      "Total 2\n",
      "Start with: 41, End With: 47, Match Item: Python\n",
      "\n",
      "64\n",
      "python\n",
      "Python\n"
     ]
    }
   ],
   "source": [
    "import re\n",
    "def find_items(p, d):\n",
    "    m = re.finditer(p, d)\n",
    "    total = 0\n",
    "\n",
    "    for i in m:\n",
    "        print(i)\n",
    "        total+=1\n",
    "        print('Total', total )\n",
    "        print(f'Start with: {i.start()}, End With: {i.end()}, Match Item: {i.group()}\\n')\n",
    "        \n",
    "\n",
    "p = re.compile(r'python',re.IGNORECASE)\n",
    "d = 'hello world! i love python. Need to know Python for professional'\n",
    "\n",
    "find_items(p,d)\n",
    "\n",
    "print(len(d))\n",
    "\n",
    "print(d[20:26])\n",
    "print(d[41:47])"
   ]
  },
  {
   "cell_type": "code",
   "execution_count": 47,
   "metadata": {},
   "outputs": [
    {
     "name": "stdout",
     "output_type": "stream",
     "text": [
      "Total 1\n",
      "<re.Match object; span=(11, 14), match='dog'>\n",
      "Start with: 11, End With: 14, Match Item: dog\n",
      "#-------------------------------------\n",
      "\n",
      "Total 2\n",
      "<re.Match object; span=(18, 21), match='cat'>\n",
      "Start with: 18, End With: 21, Match Item: cat\n",
      "#-------------------------------------\n",
      "\n",
      "Total 3\n",
      "<re.Match object; span=(34, 37), match='Dog'>\n",
      "Start with: 34, End With: 37, Match Item: Dog\n",
      "#-------------------------------------\n",
      "\n",
      "Total 4\n",
      "<re.Match object; span=(50, 53), match='Cat'>\n",
      "Start with: 50, End With: 53, Match Item: Cat\n",
      "#-------------------------------------\n",
      "\n",
      "78\n",
      "dog\n",
      "cat\n",
      "Dog\n",
      "Cat\n"
     ]
    }
   ],
   "source": [
    "import re\n",
    "\n",
    "\n",
    "def find_items(p, d):\n",
    "    m = re.finditer(p, d)\n",
    "    total = 0\n",
    "\n",
    "    for i in m:\n",
    "        total += 1\n",
    "        print('Total', total)\n",
    "        print(i)\n",
    "        print(\n",
    "            f'Start with: {i.start()}, End With: {i.end()}, Match Item: {i.group()}')\n",
    "        print(\"#-------------------------------------\\n\")\n",
    "\n",
    "\n",
    "p = re.compile(r'dog|cat', re.IGNORECASE)\n",
    "d = 'hello worlddogs i cat love python.Dog Need to knowCats Python for professional'\n",
    "\n",
    "find_items(p, d)\n",
    "\n",
    "\n",
    "print(len(d))\n",
    "print(d[11:14])\n",
    "print(d[18:21])\n",
    "print(d[34:37])\n",
    "print(d[50:53])"
   ]
  },
  {
   "cell_type": "code",
   "execution_count": 52,
   "metadata": {},
   "outputs": [
    {
     "name": "stdout",
     "output_type": "stream",
     "text": [
      "['python', 'Python']\n",
      "python\n",
      "Total 1\n",
      "Python\n",
      "Total 2\n"
     ]
    }
   ],
   "source": [
    "import re\n",
    "def find_items(p, d):\n",
    "    m = re.findall(p, d)\n",
    "    \n",
    "    print(m)\n",
    "    \n",
    "    total = 0\n",
    "\n",
    "    for i in m:\n",
    "        print(i)\n",
    "        total+=1\n",
    "        print('Total', total )\n",
    "        # print(f'Start with: {i.start()}, End With: {i.end()}, Match Item: {i.group()}\\n')          #Not working in re.findall(pattern, data, flags)\n",
    "        \n",
    "\n",
    "p = re.compile(r'python',re.IGNORECASE)\n",
    "d = 'hello world! i love python. Need to know Python for professional'\n",
    "\n",
    "find_items(p,d)\n"
   ]
  }
 ],
 "metadata": {
  "kernelspec": {
   "display_name": "env",
   "language": "python",
   "name": "python3"
  },
  "language_info": {
   "codemirror_mode": {
    "name": "ipython",
    "version": 3
   },
   "file_extension": ".py",
   "mimetype": "text/x-python",
   "name": "python",
   "nbconvert_exporter": "python",
   "pygments_lexer": "ipython3",
   "version": "3.10.12"
  }
 },
 "nbformat": 4,
 "nbformat_minor": 2
}
