{
 "cells": [
  {
   "cell_type": "code",
   "execution_count": 52,
   "metadata": {},
   "outputs": [],
   "source": [
    "# import re\n",
    "# re.search(pattern, data)    #Search From Whole data string\n",
    "# re.match(pattern, data)    #Search From First data string"
   ]
  },
  {
   "cell_type": "code",
   "execution_count": 51,
   "metadata": {},
   "outputs": [
    {
     "name": "stdout",
     "output_type": "stream",
     "text": [
      "<re.Match object; span=(12, 17), match='World'>\n"
     ]
    },
    {
     "data": {
      "text/plain": [
       "re.Match"
      ]
     },
     "execution_count": 51,
     "metadata": {},
     "output_type": "execute_result"
    }
   ],
   "source": [
    "import re\n",
    "data = \"hello Hello World! Hello\"\n",
    "pattern = r\"World\"\n",
    "\n",
    "output = re.search(pattern, data)\n",
    "print(output)\n",
    "\n",
    "#type\n",
    "type(output)"
   ]
  },
  {
   "cell_type": "code",
   "execution_count": 32,
   "metadata": {},
   "outputs": [
    {
     "name": "stdout",
     "output_type": "stream",
     "text": [
      "<re.Match object; span=(6, 11), match='Hello'>\n"
     ]
    },
    {
     "data": {
      "text/plain": [
       "re.Match"
      ]
     },
     "execution_count": 32,
     "metadata": {},
     "output_type": "execute_result"
    }
   ],
   "source": [
    "import re\n",
    "data = \"hello Hello World! Hello\"\n",
    "pattern = r\"Hello\"\n",
    "\n",
    "output = re.search(pattern, data)\n",
    "print(output)\n",
    "\n",
    "#type\n",
    "type(output)\n",
    "\n"
   ]
  },
  {
   "cell_type": "code",
   "execution_count": 15,
   "metadata": {},
   "outputs": [
    {
     "name": "stdout",
     "output_type": "stream",
     "text": [
      "None\n"
     ]
    },
    {
     "data": {
      "text/plain": [
       "NoneType"
      ]
     },
     "execution_count": 15,
     "metadata": {},
     "output_type": "execute_result"
    }
   ],
   "source": [
    "import re\n",
    "data = \"hello Hello World! Hello\"\n",
    "pattern = r\"Hesllo\"\n",
    "\n",
    "output = re.search(pattern, data)\n",
    "print(output)\n",
    "\n",
    "#type\n",
    "type(output)"
   ]
  },
  {
   "cell_type": "code",
   "execution_count": 41,
   "metadata": {},
   "outputs": [
    {
     "name": "stdout",
     "output_type": "stream",
     "text": [
      "Data Found:  Hello\n",
      "Output type:  <class 're.Match'>\n"
     ]
    }
   ],
   "source": [
    "import re\n",
    "data = \"hello Hello World! Hello\"\n",
    "pattern = r\"Hello\"\n",
    "\n",
    "output = re.search(pattern, data)\n",
    "\n",
    "if output:\n",
    "    print(\"Data Found: \", output.group())\n",
    "else:\n",
    "    print(\"Data Not Found: \",output)\n",
    "    \n",
    "# type\n",
    "print(\"Output type: \", type(output))"
   ]
  },
  {
   "cell_type": "code",
   "execution_count": 46,
   "metadata": {},
   "outputs": [
    {
     "name": "stdout",
     "output_type": "stream",
     "text": [
      "Data Not Found\n",
      "Output type:  <class 'NoneType'>\n"
     ]
    }
   ],
   "source": [
    "import re\n",
    "\n",
    "data = \"hello Hello World! Hello\"\n",
    "pattern = r\"Hllo\"  # Corrected Pattern\n",
    "\n",
    "output = re.search(pattern, data)\n",
    "\n",
    "if output:\n",
    "    print(\"Data Found: \", output.group())\n",
    "else:\n",
    "    print(\"Data Not Found\")\n",
    "    \n",
    "# type\n",
    "print(\"Output type: \", type(output))\n"
   ]
  },
  {
   "cell_type": "code",
   "execution_count": 50,
   "metadata": {},
   "outputs": [
    {
     "name": "stdout",
     "output_type": "stream",
     "text": [
      "Output Found:  PYTHON\n",
      "<re.Match object; span=(0, 6), match='PYTHON'>\n",
      "<class 're.Match'>\n"
     ]
    }
   ],
   "source": [
    "# case insensitive\n",
    "import re\n",
    "data = 'PYTHON Django Bangladesh'\n",
    "pattern = r'python'\n",
    "\n",
    "\n",
    "# output = re.search(pattern, data)\n",
    "output = re.search(pattern, data, re.IGNORECASE)\n",
    "\n",
    "if output:\n",
    "    print('Output Found: ', output.group())\n",
    "else:\n",
    "    print('Output Not Found')\n",
    "\n",
    "print(output)\n",
    "print(type(output))"
   ]
  },
  {
   "cell_type": "code",
   "execution_count": 71,
   "metadata": {},
   "outputs": [
    {
     "name": "stdout",
     "output_type": "stream",
     "text": [
      "Output Not Found\n",
      "None\n",
      "<class 'NoneType'>\n"
     ]
    }
   ],
   "source": [
    "\n",
    "# re.match\n",
    "# pattern searched \"python\" but not found beacuse this is re.match expression. it must be match in first Word\n",
    "import re\n",
    "\n",
    "data = \"here's an example Python script that demonstrates the usage of regular expressions to search for a pattern within a string\"\n",
    "# data  = \"Pythonan example Python script that demonstrates the usage of regular expressions to search for a pattern within a string\"\n",
    "pattern = r\"python\"\n",
    "\n",
    "output = re.match(pattern, data, re.IGNORECASE)\n",
    "if output:\n",
    "    print('Output Found: ', output.group())\n",
    "else:\n",
    "    print('Output Not Found')\n",
    "\n",
    "print(output)\n",
    "print(type(output))"
   ]
  },
  {
   "cell_type": "code",
   "execution_count": 67,
   "metadata": {},
   "outputs": [
    {
     "name": "stdout",
     "output_type": "stream",
     "text": [
      "<re.Match object; span=(18, 24), match='Python'>\n"
     ]
    }
   ],
   "source": [
    "\n",
    "#re.match\n",
    "# pattern searched \"python\" but found beacuse this is re.search expression. it match in whole sentence\n",
    "import re\n",
    "\n",
    "data  = \"here's an example Python script that demonstrates the usage of regular expressions to search for a pattern within a string\"\n",
    "pattern = r\"python\"\n",
    "\n",
    "output = re.search(pattern, data, re.IGNORECASE)\n",
    "print(output)"
   ]
  },
  {
   "cell_type": "code",
   "execution_count": 70,
   "metadata": {},
   "outputs": [
    {
     "ename": "ValueError",
     "evalue": "cannot process flags argument with a compiled pattern",
     "output_type": "error",
     "traceback": [
      "\u001b[0;31m---------------------------------------------------------------------------\u001b[0m",
      "\u001b[0;31mValueError\u001b[0m                                Traceback (most recent call last)",
      "Cell \u001b[0;32mIn[70], line 8\u001b[0m\n\u001b[1;32m      5\u001b[0m data  \u001b[38;5;241m=\u001b[39m \u001b[38;5;124m\"\u001b[39m\u001b[38;5;124mhere\u001b[39m\u001b[38;5;124m'\u001b[39m\u001b[38;5;124ms an example Python script that demonstrates the usage of regular expressions to search for a pattern within a string\u001b[39m\u001b[38;5;124m\"\u001b[39m\n\u001b[1;32m      6\u001b[0m pattern \u001b[38;5;241m=\u001b[39m re\u001b[38;5;241m.\u001b[39mcompile(\u001b[38;5;124mr\u001b[39m\u001b[38;5;124m'\u001b[39m\u001b[38;5;124mpython\u001b[39m\u001b[38;5;124m'\u001b[39m)\n\u001b[0;32m----> 8\u001b[0m output \u001b[38;5;241m=\u001b[39m \u001b[43mre\u001b[49m\u001b[38;5;241;43m.\u001b[39;49m\u001b[43msearch\u001b[49m\u001b[43m(\u001b[49m\u001b[43mpattern\u001b[49m\u001b[43m,\u001b[49m\u001b[43m \u001b[49m\u001b[43mdata\u001b[49m\u001b[43m,\u001b[49m\u001b[43m \u001b[49m\u001b[43mre\u001b[49m\u001b[38;5;241;43m.\u001b[39;49m\u001b[43mIGNORECASE\u001b[49m\u001b[43m)\u001b[49m\n\u001b[1;32m      9\u001b[0m \u001b[38;5;28mprint\u001b[39m(output)\n",
      "File \u001b[0;32m/usr/lib/python3.10/re.py:200\u001b[0m, in \u001b[0;36msearch\u001b[0;34m(pattern, string, flags)\u001b[0m\n\u001b[1;32m    197\u001b[0m \u001b[38;5;28;01mdef\u001b[39;00m \u001b[38;5;21msearch\u001b[39m(pattern, string, flags\u001b[38;5;241m=\u001b[39m\u001b[38;5;241m0\u001b[39m):\n\u001b[1;32m    198\u001b[0m \u001b[38;5;250m    \u001b[39m\u001b[38;5;124;03m\"\"\"Scan through string looking for a match to the pattern, returning\u001b[39;00m\n\u001b[1;32m    199\u001b[0m \u001b[38;5;124;03m    a Match object, or None if no match was found.\"\"\"\u001b[39;00m\n\u001b[0;32m--> 200\u001b[0m     \u001b[38;5;28;01mreturn\u001b[39;00m \u001b[43m_compile\u001b[49m\u001b[43m(\u001b[49m\u001b[43mpattern\u001b[49m\u001b[43m,\u001b[49m\u001b[43m \u001b[49m\u001b[43mflags\u001b[49m\u001b[43m)\u001b[49m\u001b[38;5;241m.\u001b[39msearch(string)\n",
      "File \u001b[0;32m/usr/lib/python3.10/re.py:298\u001b[0m, in \u001b[0;36m_compile\u001b[0;34m(pattern, flags)\u001b[0m\n\u001b[1;32m    296\u001b[0m \u001b[38;5;28;01mif\u001b[39;00m \u001b[38;5;28misinstance\u001b[39m(pattern, Pattern):\n\u001b[1;32m    297\u001b[0m     \u001b[38;5;28;01mif\u001b[39;00m flags:\n\u001b[0;32m--> 298\u001b[0m         \u001b[38;5;28;01mraise\u001b[39;00m \u001b[38;5;167;01mValueError\u001b[39;00m(\n\u001b[1;32m    299\u001b[0m             \u001b[38;5;124m\"\u001b[39m\u001b[38;5;124mcannot process flags argument with a compiled pattern\u001b[39m\u001b[38;5;124m\"\u001b[39m)\n\u001b[1;32m    300\u001b[0m     \u001b[38;5;28;01mreturn\u001b[39;00m pattern\n\u001b[1;32m    301\u001b[0m \u001b[38;5;28;01mif\u001b[39;00m \u001b[38;5;129;01mnot\u001b[39;00m sre_compile\u001b[38;5;241m.\u001b[39misstring(pattern):\n",
      "\u001b[0;31mValueError\u001b[0m: cannot process flags argument with a compiled pattern"
     ]
    }
   ],
   "source": [
    "##############\n",
    "######  re.compile(pattern, flags)\n",
    "\n",
    "import re\n",
    "data  = \"here's an example Python script that demonstrates the usage of regular expressions to search for a pattern within a string\"\n",
    "pattern = re.compile(r'python')\n",
    "\n",
    "output = re.search(pattern, data, re.IGNORECASE) #XXXXXXXX if re.compile , then compile should be flags , not re.search XXXXXXXXXXXXXXX\n",
    "\n",
    "if output:\n",
    "    print('Output Found: ', output.group())\n",
    "else:\n",
    "    print('Output Not Found')\n",
    "\n",
    "print(output)\n",
    "print(type(output))\n",
    "\n",
    "print(output)"
   ]
  },
  {
   "cell_type": "code",
   "execution_count": 74,
   "metadata": {},
   "outputs": [
    {
     "name": "stdout",
     "output_type": "stream",
     "text": [
      "Output Found:  Python\n",
      "<re.Match object; span=(18, 24), match='Python'>\n",
      "<class 're.Match'>\n"
     ]
    }
   ],
   "source": [
    "##############\n",
    "######  re.compile(pattern, flags)\n",
    "\n",
    "import re\n",
    "data  = \"here's an example Python script that demonstrates the usage of regular expressions to search for a pattern within a string\"\n",
    "pattern = re.compile(r'python', re.IGNORECASE)\n",
    "\n",
    "output = re.search(pattern, data) \n",
    "\n",
    "if output:\n",
    "    print('Output Found: ', output.group())\n",
    "else:\n",
    "    print('Output Not Found')\n",
    "\n",
    "print(output)\n",
    "print(type(output))\n"
   ]
  },
  {
   "cell_type": "code",
   "execution_count": 81,
   "metadata": {},
   "outputs": [
    {
     "name": "stdout",
     "output_type": "stream",
     "text": [
      "text found:  hello\n",
      "<re.Match object; span=(0, 5), match='hello'>\n"
     ]
    }
   ],
   "source": [
    "import re\n",
    "\n",
    "def find_pattern(pattern, data):\n",
    "    match = re.search(pattern, data)\n",
    "\n",
    "    if match:\n",
    "        print(\"text found: \", match.group())\n",
    "        print(match)\n",
    "    else:\n",
    "        print('text Not Found')\n",
    "\n",
    "\n",
    "# find_pattern(r'Hello', 'Hello World')\n",
    "find_pattern(re.compile(r'Hello',re.IGNORECASE), 'hello World')\n"
   ]
  },
  {
   "cell_type": "code",
   "execution_count": 84,
   "metadata": {},
   "outputs": [
    {
     "name": "stdout",
     "output_type": "stream",
     "text": [
      "Found data:  Hello\n",
      "<re.Match object; span=(0, 5), match='Hello'>\n"
     ]
    }
   ],
   "source": [
    "############################    EXAMPLE    ###################################################\n",
    "import re \n",
    "\n",
    "def find_data(pattern, data):\n",
    "    match_data = re.search(pattern, data)\n",
    "    \n",
    "    if match_data:\n",
    "        print('Found data: ', match_data.group())\n",
    "        print(match_data)\n",
    "    else:\n",
    "        print('Data not found')\n",
    "\n",
    "\n",
    "#------------  assing data on peramitter --------------------------\n",
    "p = re.compile(r'hello', re.IGNORECASE)\n",
    "d = 'Hello World!'\n",
    "\n",
    "#------------ calling function--------------------------\n",
    "find_data(pattern, data)"
   ]
  }
 ],
 "metadata": {
  "kernelspec": {
   "display_name": "env",
   "language": "python",
   "name": "python3"
  },
  "language_info": {
   "codemirror_mode": {
    "name": "ipython",
    "version": 3
   },
   "file_extension": ".py",
   "mimetype": "text/x-python",
   "name": "python",
   "nbconvert_exporter": "python",
   "pygments_lexer": "ipython3",
   "version": "3.10.12"
  }
 },
 "nbformat": 4,
 "nbformat_minor": 2
}
