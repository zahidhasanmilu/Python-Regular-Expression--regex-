{
 "cells": [
  {
   "cell_type": "code",
   "execution_count": 7,
   "metadata": {},
   "outputs": [
    {
     "name": "stdout",
     "output_type": "stream",
     "text": [
      "44\n",
      "['i', 'l', 'o', 'v', 'e', 'D', 'o', 'g', 's', 's', '4', '4', 'a', 'n', 'd', 'c', 'a', 't', 's', '5', '7', 'j', 'h', 'i', 's', 'd', 'o', 'h', 'i', 's', 'd', 'u', 'h', 'd', 'h', 'b', 'a', 'C', 'A', 'T', 'D', 'O', 'G', 'S']\n"
     ]
    }
   ],
   "source": [
    "import re \n",
    "\n",
    "# p = re.compile(r'dog|cat', re.IGNORECASE)\n",
    "p = re.compile(r'[a-zA-Z0-9]')\n",
    "d = 'i love Dogss 44 and cats 57 . jhisdohi sduhd hba CAT DOGS'\n",
    "\n",
    "m = re.findall(p, d)\n",
    "m\n",
    "print(len(m))\n",
    "print(m)"
   ]
  },
  {
   "cell_type": "code",
   "execution_count": 18,
   "metadata": {},
   "outputs": [
    {
     "name": "stdout",
     "output_type": "stream",
     "text": [
      "4\n",
      "['abbc', 'abc', 'bc', 'bbbc']\n"
     ]
    }
   ],
   "source": [
    "import re \n",
    "\n",
    "# p = re.compile(r'dog|cat', re.IGNORECASE)\n",
    "\n",
    "\n",
    "p = re.compile(r'a*b+c', re.IGNORECASE)\n",
    "# p = re.compile(r'do', re.IGNORECASE)\n",
    "d = 'aa aabb abb abbc abc bc bbbccc'\n",
    "# d = 'i love Dogss4@gmail.com 44 and cats 57 . jhisdohi sduhd hba CAT DOGS'\n",
    "\n",
    "m = re.findall(p, d)\n",
    "m\n",
    "print(len(m))\n",
    "print(m)"
   ]
  },
  {
   "cell_type": "code",
   "execution_count": 32,
   "metadata": {},
   "outputs": [
    {
     "name": "stdout",
     "output_type": "stream",
     "text": [
      "data found ['i', 'l', 'o', 'v', 'e', 'D', 'o', 'g', 's', 's', '4', '4', 'a', 'n', 'd', 'c', 'a', 't', 's', '5', '7', 'j', 'h', 'i', 's', 'd', 'o', 'h', 'i', 's', 'd', 'u', 'h', 'd', 'h', 'b', 'a', 'C', 'A', 'T', 'D', 'O', 'G', 'S']\n"
     ]
    }
   ],
   "source": [
    "import re\n",
    "\n",
    "def find_date(p,d):\n",
    "\n",
    "    m = re.findall(p, d)\n",
    "    \n",
    "    if m:\n",
    "        print('data found', m)        \n",
    "    else:\n",
    "        print('data not found')\n",
    "        \n",
    "p = re.compile(r'[a-zA-Z0-9]')\n",
    "d = 'i love Dogss 44 and cats 57 . jhisdohi sduhd hba CAT DOGS'\n",
    "\n",
    "find_date(p,d)"
   ]
  },
  {
   "cell_type": "code",
   "execution_count": 58,
   "metadata": {},
   "outputs": [
    {
     "name": "stdout",
     "output_type": "stream",
     "text": [
      "data found ['e', 'f', 'g', 'h', '$', '%', '*']\n"
     ]
    }
   ],
   "source": [
    "import re\n",
    "\n",
    "\n",
    "def find_date(p, d):\n",
    "\n",
    "    m = re.findall(p, d)\n",
    "\n",
    "    if m:\n",
    "        print('data found', m)\n",
    "    else:\n",
    "        print('data not found')\n",
    "\n",
    "\n",
    "# p = re.compile(r'[A-Z]')              #data found ['A', 'B', 'C', 'D']\n",
    "# p = re.compile(r'[^A-Z]')             #data found [' ', 'e', 'f', 'g', 'h', ' ', '0', '1', '2', '3', '4', ' ', '$', '%', '*']\n",
    "# p = re.compile(r'[a-z]')              #data found ['e', 'f', 'g', 'h']\n",
    "# p = re.compile(r'[^a-z]')             #data found ['A', 'B', 'C', 'D', ' ', ' ', '0', '1', '2', '3', '4', ' ', '$', '%', '*']\n",
    "# p = re.compile(r'[a-zA-Z]')           #data found ['A', 'B', 'C', 'D', 'e', 'f', 'g', 'h']\n",
    "# p = re.compile(r'[^a-zA-Z 0-9]')      # data found ['$', '%', '*']\n",
    "# p = re.compile(r'[^a-zA-Z 0-9$%*]')   #data not found\n",
    "# p = re.compile(r'[0-9]')              # data found ['0', '1', '2', '3', '4']\n",
    "# p = re.compile(r'[^0-9]')             #data found ['A', 'B', 'C', 'D', ' ', 'e', 'f', 'g', 'h', ' ', ' ', '$', '%', '*']\n",
    "# p = re.compile(r'[a-z0-9]')           #data found ['e', 'f', 'g', 'h', '0', '1', '2', '3', '4']\n",
    "# p = re.compile(r'[A-Z0-9]')             #data found ['A', 'B', 'C', 'D', '0', '1', '2', '3', '4']\n",
    "\n",
    "p = re.compile(r'[^A-Z0-9 ]')             \n",
    "d = 'ABCD efgh 01234 $%*'\n",
    "\n",
    "find_date(p, d)"
   ]
  },
  {
   "cell_type": "code",
   "execution_count": 70,
   "metadata": {},
   "outputs": [
    {
     "name": "stdout",
     "output_type": "stream",
     "text": [
      "invalid password\n"
     ]
    }
   ],
   "source": [
    "#password check\n",
    "import re\n",
    "\n",
    "def check_password(pattern, password):\n",
    "    \n",
    "    matched = re.findall(pattern, password)\n",
    "    \n",
    "    if matched:\n",
    "        print('Valid Password', matched)\n",
    "    else:\n",
    "        print('invalid password')\n",
    "        \n",
    "pattern = re.compile(r'[A-Z0-9]')\n",
    "password = input('Enter Password')\n",
    "\n",
    "check_password(pattern,password)"
   ]
  },
  {
   "cell_type": "code",
   "execution_count": 128,
   "metadata": {},
   "outputs": [
    {
     "name": "stdout",
     "output_type": "stream",
     "text": [
      "data found ['i', ' ', 'l', 'o', 'v', 'e', ' ', 'D', 'o', 'g', 's', 's', ' ', '4', '4', ' ', 'a', 'n', 'd', ' ', 'c', 'a', 't', 's', ' ', '5', '7', ' ', '%', '$', '$', '$', ' ', '.', ' ', ',', ' ', 'j', 'h', 'i', 's', 'd', 'o', 'h', 'i', ' ', 's', 'd', 'u', 'h', 'd', ' ', 'h', 'b', 'a', ' ', 'C', 'A', 'T', ' ', 'D', 'O', 'G', 'S']\n",
      "data found 64\n"
     ]
    }
   ],
   "source": [
    "import re\n",
    "\n",
    "def find_date(p,d):\n",
    "\n",
    "    m = re.findall(p, d)\n",
    "    \n",
    "    if m:\n",
    "        print('data found', m)        \n",
    "        print('data found', len(m))        \n",
    "    else:\n",
    "        print('data not found')\n",
    "        \n",
    " \n",
    "# p = re.compile(r'\\d') #data found ['4', '4', '5', '7']\n",
    "p = re.compile(r'[\\D]') \n",
    "\n",
    "p = re.compile(r'\\s') #data found [' ', ' ', ' ', ' ', ' ', ' ', ' ', ' ', ' ', ' ', ' ', ' ']\n",
    "p = re.compile(r'\\S') \n",
    "\n",
    "p = re.compile(r'\\w')  # a-zA-Z0-9\n",
    "p = re.compile(r'\\W') # !a-zA-Z0-9 #data found [' ', ' ', ' ', ' ', ' ', ' ', ' ', '%', '$', '$', '$', ' ', '.', ' ', ',', ' ', ' ', ' ', ' ', ' ']\n",
    "p = re.compile(r'\\bcats\\b')\n",
    "p = re.compile(r'\\Ai')\n",
    "p = re.compile(r'\\AD')\n",
    "p = re.compile(r'\\bcats')\n",
    "p = re.compile(r'\\Ai')\n",
    "p = re.compile(r'S\\Z')\n",
    "p = re.compile(r'DOGS\\Z')\n",
    "p = re.compile(r'.')\n",
    "\n",
    "\n",
    "d = 'i love Dogss 44 and cats 57 %$$$ . , jhisdohi sduhd hba CAT DOGS'\n",
    "\n",
    "\n",
    "find_date(p,d)\n",
    "\n"
   ]
  },
  {
   "cell_type": "code",
   "execution_count": 130,
   "metadata": {},
   "outputs": [
    {
     "name": "stdout",
     "output_type": "stream",
     "text": [
      "['phone']\n"
     ]
    }
   ],
   "source": [
    "import re \n",
    "p = re.compile(r'\\bphone\\b')\n",
    "\n",
    "# d = 'i love Dogss 44 and cats 57 %$$$ . , jhisdohi sduhd hba CAT DOGS'\n",
    "d = \"hello, my phone number is 1245\"\n",
    "m = re.findall(p, d)\n",
    "    \n",
    "print(m)"
   ]
  },
  {
   "cell_type": "code",
   "execution_count": 21,
   "metadata": {},
   "outputs": [
    {
     "name": "stdout",
     "output_type": "stream",
     "text": [
      "['a']\n"
     ]
    }
   ],
   "source": [
    "import re\n",
    "p = '^a'\n",
    "d = 'abcd'\n",
    "\n",
    "m = re.findall(p,d)\n",
    "print(m)"
   ]
  },
  {
   "cell_type": "code",
   "execution_count": 22,
   "metadata": {},
   "outputs": [
    {
     "name": "stdout",
     "output_type": "stream",
     "text": [
      "[]\n"
     ]
    }
   ],
   "source": [
    "import re\n",
    "p = '^a'\n",
    "d = 'bcd'\n",
    "\n",
    "m = re.findall(p,d)\n",
    "print(m)"
   ]
  },
  {
   "cell_type": "code",
   "execution_count": 28,
   "metadata": {},
   "outputs": [
    {
     "name": "stdout",
     "output_type": "stream",
     "text": [
      "['123']\n"
     ]
    }
   ],
   "source": [
    "import re\n",
    "p = '\\d{3}$'\n",
    "d = 'bcd dd sad123'\n",
    "\n",
    "m = re.findall(p,d)\n",
    "print(m)"
   ]
  },
  {
   "cell_type": "code",
   "execution_count": 31,
   "metadata": {},
   "outputs": [
    {
     "name": "stdout",
     "output_type": "stream",
     "text": [
      "start: 19, end: 21, value: 21\n",
      "start: 43, end: 45, value: 56\n"
     ]
    }
   ],
   "source": [
    "import re \n",
    "p = r'\\d{2}$'\n",
    "d = '''Amar sonar Bangla 121\n",
    "ami tomay valobashi 456\n",
    "'''\n",
    "m = re.finditer(p, d, re.MULTILINE)\n",
    "for i in m:\n",
    "    print(f'start: {i.start()}, end: {i.end()}, value: {i.group()}')"
   ]
  },
  {
   "cell_type": "code",
   "execution_count": 32,
   "metadata": {},
   "outputs": [
    {
     "name": "stdout",
     "output_type": "stream",
     "text": [
      "start: 18, end: 21, value: 121\n",
      "start: 42, end: 45, value: 456\n"
     ]
    }
   ],
   "source": [
    "import re \n",
    "p = r'\\d+$'\n",
    "d = '''Amar sonar Bangla 121\n",
    "ami tomay valobashi 456\n",
    "'''\n",
    "m = re.finditer(p, d, re.MULTILINE)\n",
    "for i in m:\n",
    "    print(f'start: {i.start()}, end: {i.end()}, value: {i.group()}')"
   ]
  },
  {
   "cell_type": "code",
   "execution_count": 33,
   "metadata": {},
   "outputs": [
    {
     "name": "stdout",
     "output_type": "stream",
     "text": [
      "start: 18, end: 21, value: 121\n",
      "start: 42, end: 45, value: 456\n"
     ]
    }
   ],
   "source": [
    "import re\n",
    "\n",
    "def check_match(p, d):\n",
    "    m = re.finditer(p, d, re.MULTILINE)\n",
    "    for i in m:\n",
    "        print(f'start: {i.start()}, end: {i.end()}, value: {i.group()}')\n",
    "\n",
    "\n",
    "p = r'\\d+$'\n",
    "d = '''Amar sonar Bangla 121\n",
    "ami tomay valobashi 456\n",
    "'''\n",
    "check_match(p,d)\n"
   ]
  },
  {
   "cell_type": "markdown",
   "metadata": {},
   "source": [
    "* none or one or more then one\n",
    "+ one or more then one\n",
    "\n",
    "^ start\n",
    "$ end \n",
    "\n",
    "[^].... without...."
   ]
  },
  {
   "cell_type": "code",
   "execution_count": 47,
   "metadata": {},
   "outputs": [
    {
     "name": "stdout",
     "output_type": "stream",
     "text": [
      "start: 9, end: 20, Numbers: 01966062105\n",
      "start: 21, end: 34, Numbers: 019-5117-6620\n",
      "start: 35, end: 46, Numbers: 01743609863\n"
     ]
    }
   ],
   "source": [
    "###    ? optional\n",
    "###   search phone numbers with optional meta charecter\n",
    "\n",
    "import re \n",
    "\n",
    "def check_phone_numbers(p, d):\n",
    "    m = re.finditer(p, d)\n",
    "    for i in m:\n",
    "        print(f'start: {i.start()}, end: {i.end()}, Numbers: {i.group()}')\n",
    "        \n",
    "\n",
    "d = 'Call me: 01966062105 019-5117-6620 01743609863'\n",
    "p = r'019?7?-?\\d{4}-?\\d{4}'\n",
    "        \n",
    "check_phone_numbers(p,d)\n"
   ]
  },
  {
   "cell_type": "code",
   "execution_count": 103,
   "metadata": {},
   "outputs": [
    {
     "name": "stdout",
     "output_type": "stream",
     "text": [
      "<re.Match object; span=(0, 23), match='http://www.facebook.com'>\n",
      "<re.Match object; span=(0, 23), match='https://www.youtube.org'>\n",
      "<re.Match object; span=(0, 26), match='http://www.instagram12.com'>\n",
      "<re.Match object; span=(0, 26), match='http://www.BTEB.gov.bd.com'>\n"
     ]
    }
   ],
   "source": [
    "import re\n",
    "\n",
    "pattern = r'https?://www\\.\\w+\\.\\w{3}'\n",
    "pattern = r'https?://www\\.\\w+\\.g?o?v?\\.?b?d?\\.?\\w{3}$'\n",
    "URLS = ['http://www.facebook.com', 'https://www.youtube.org', 'http://www.instagram12.com', 'http://www.BTEB.gov.bd.com' ]\n",
    "\n",
    "for url in URLS:\n",
    "    print(re.match(pattern, url))"
   ]
  },
  {
   "cell_type": "code",
   "execution_count": 6,
   "metadata": {},
   "outputs": [
    {
     "name": "stdout",
     "output_type": "stream",
     "text": [
      "Username:  zahidhasanmilu\n",
      "Domain_name:  gmail\n",
      "Website type: Commertial Domain:  com\n",
      "#-----------------------\n",
      "Username:  tomalika\n",
      "Domain_name:  contact\n",
      "Website type: Commertial Domain:  com\n",
      "#-----------------------\n",
      "Username:  milu\n",
      "Domain_name:  goverment\n",
      "Website type: Orgranization : org\n",
      "#-----------------------\n"
     ]
    }
   ],
   "source": [
    "import re\n",
    "data = \"mail is zahidhasanmilu@gmail.com tomalika@contact.com milu@goverment.org\"\n",
    "pattern = r\"\\w+@\\w+\\.\\w+\"    #['zahidhasanmilu@gmail.com', 'tomalika@contact.com', 'milu@goverment.org']\n",
    "pattern = r\"(\\w+)@(\\w+)\\.(\\w+)\"\n",
    "\n",
    "matches = re.findall(pattern, data)\n",
    "for match in  matches:\n",
    "    print(\"Username: \", match[0])\n",
    "    print(\"Domain_name: \", match[1])\n",
    "    if match[2] == 'com':\n",
    "        m = match[2]\n",
    "        print(\"Website type: Commertial Domain: \",m)\n",
    "    elif match[2] == 'org':\n",
    "        m = match[2]\n",
    "        print(\"Website type: Orgranization :\",m)\n",
    "    print(\"#-----------------------\")\n",
    "\n"
   ]
  },
  {
   "cell_type": "code",
   "execution_count": 10,
   "metadata": {},
   "outputs": [
    {
     "name": "stdout",
     "output_type": "stream",
     "text": [
      "[('https://www.example.com', 'click here')]\n"
     ]
    }
   ],
   "source": [
    "import re\n",
    "\n",
    "html = '<a href=\"https://www.example.com\">click here</a>'\n",
    "pattern = '<a href=\"([^\"]+)\">([^<]+)</a>'\n",
    "\n",
    "matches = re.findall(pattern, html)\n",
    "print(matches)"
   ]
  },
  {
   "cell_type": "code",
   "execution_count": 13,
   "metadata": {},
   "outputs": [
    {
     "name": "stdout",
     "output_type": "stream",
     "text": [
      "[('https://www.example.com', 'click here')]\n"
     ]
    }
   ],
   "source": [
    "import re\n",
    "\n",
    "html = '<a href=\"https://www.example.com\">click here</a>'\n",
    "pattern = r'<a href=\"([^\"]+)\">([^<]+)</a>'\n",
    "matches = re.findall(pattern, html)\n",
    "print(matches)"
   ]
  },
  {
   "cell_type": "code",
   "execution_count": 13,
   "metadata": {},
   "outputs": [
    {
     "name": "stdout",
     "output_type": "stream",
     "text": [
      "valid mail asdj@gma2il.com\n"
     ]
    }
   ],
   "source": [
    "#email Validation\n",
    "import re\n",
    "email = input('Enter mail')\n",
    "pattern = r'^[a-zA-Z_][\\w_\\.]+@\\w+\\.\\w+'\n",
    "\n",
    "match = re.match(pattern, email)\n",
    "if match:\n",
    "    print('valid mail', match.group())\n",
    "else:\n",
    "    \n",
    "    print(\"invalid mail\", email)"
   ]
  },
  {
   "cell_type": "code",
   "execution_count": 17,
   "metadata": {},
   "outputs": [
    {
     "name": "stdout",
     "output_type": "stream",
     "text": [
      "valid mail zahid.abc_123@gmail.com\n"
     ]
    }
   ],
   "source": [
    "#email Validation\n",
    "import re\n",
    "email = input('Enter mail')\n",
    "pattern = r'^[a-zA-Z][\\w\\.]+@[a-zA-Z]+\\.\\w+'\n",
    "\n",
    "match = re.match(pattern, email)\n",
    "if match:\n",
    "    print('valid mail', match.group())\n",
    "else:\n",
    "    \n",
    "    print(\"invalid mail\", email)"
   ]
  },
  {
   "cell_type": "code",
   "execution_count": 11,
   "metadata": {},
   "outputs": [
    {
     "name": "stdout",
     "output_type": "stream",
     "text": [
      "(555)+91-907,576,3738 (7753)907,576,3738  (123) +91-907,576,3738\n",
      "#-----------------------------------------------------------------------------\n",
      "['(555)+91-907,576,3738', '(7753)907,576,3738', '(123) +91-907,576,3738']\n"
     ]
    }
   ],
   "source": [
    "# import re\n",
    "# f = open('mydata.txt')\n",
    "# data = f.read()\n",
    "# print(data)\n",
    "# print(\"#-----------------------------------------------------------------------------\")\n",
    "\n",
    "# pattern = r'\\(\\d{3,4}\\)\\s?(?:\\+\\d{2}-)?\\d{3},\\d{3},\\d{4}'\n",
    "\n",
    "# matches = re.findall(pattern, data)\n",
    "# print(matches)"
   ]
  },
  {
   "cell_type": "code",
   "execution_count": 22,
   "metadata": {},
   "outputs": [
    {
     "name": "stdout",
     "output_type": "stream",
     "text": [
      "(555)+91-907,576,3738 (7753)907,576,3738  (123) +91-907,576,3738    (123) +91-907,576,373   (123) +91-907,576,33738\n",
      "#-----------------------------------------------------------------------------\n",
      "['(555)+91-907,576,3738', '(7753)907,576,3738', '(123) +91-907,576,3738', '(123) +91-907,576,3373']\n"
     ]
    }
   ],
   "source": [
    "import re\n",
    "f = open('mydata.txt')\n",
    "data = f.read()\n",
    "print(data)\n",
    "print(\"#-----------------------------------------------------------------------------\")\n",
    "\n",
    "pattern = r'\\(\\d{3,4}\\)\\s?(?:\\+\\d{2}\\-)?\\d{3},\\d{3},\\d{4}'\n",
    "\n",
    "matches = re.findall(pattern, data)\n",
    "print(matches)"
   ]
  }
 ],
 "metadata": {
  "kernelspec": {
   "display_name": "Python 3",
   "language": "python",
   "name": "python3"
  },
  "language_info": {
   "codemirror_mode": {
    "name": "ipython",
    "version": 3
   },
   "file_extension": ".py",
   "mimetype": "text/x-python",
   "name": "python",
   "nbconvert_exporter": "python",
   "pygments_lexer": "ipython3",
   "version": "3.8.10"
  }
 },
 "nbformat": 4,
 "nbformat_minor": 2
}
